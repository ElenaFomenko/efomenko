{
 "cells": [
  {
   "cell_type": "code",
   "execution_count": 1,
   "metadata": {
    "collapsed": true
   },
   "outputs": [],
   "source": [
    "# Test"
   ]
  },
  {
   "cell_type": "code",
   "execution_count": 240,
   "metadata": {
    "collapsed": true
   },
   "outputs": [],
   "source": [
    "%matplotlib inline\n",
    "import pandas as pd\n",
    "from pandas.tseries.offsets import *\n",
    "\n",
    "import pylab as pl\n",
    "import numpy as np\n",
    "\n",
    "import matplotlib as mpl\n",
    "from matplotlib import pyplot as plt\n",
    "\n",
    "import time\n",
    "import random\n",
    "\n",
    "import csv\n",
    "import requests\n",
    "import dateutil as du\n",
    "import dateutil.parser\n",
    "from dateutil.parser import parse\n",
    "from datetime import datetime\n",
    "\n",
    "import matplotlib as mpl\n",
    "import matplotlib.colors\n",
    "from matplotlib import pyplot as plt\n",
    "from matplotlib import collections, transforms\n",
    "from matplotlib.colors import colorConverter\n",
    "\n",
    "mpl.rcParams['text.usetex'] = False\n",
    "mpl.rcParams['text.latex.preamble'] = [r'\\usepackage{amsmath}' , r'\\usepackage[T1]{fontenc}'] \n",
    "mpl.rcParams['text.latex.unicode'] = True "
   ]
  },
  {
   "cell_type": "code",
   "execution_count": 130,
   "metadata": {
    "collapsed": false
   },
   "outputs": [],
   "source": [
    "class Profiler(object):     \n",
    "\n",
    "    def __enter__(self):\n",
    "        self._startTime = time.time()\n",
    "    \n",
    "    def __exit__(self, type, value, traceback):\n",
    "        print \"Elapsed time: {:.3f} sec\".format(time.time() - self._startTime)"
   ]
  },
  {
   "cell_type": "code",
   "execution_count": 141,
   "metadata": {
    "collapsed": true
   },
   "outputs": [],
   "source": [
    "def pastel(colour, weight=2.4):\n",
    "    \"\"\" Convert colour into a nice pastel shade\"\"\"\n",
    "    rgb = np.asarray(colorConverter.to_rgba(colour))\n",
    "    # scale colour\n",
    "    maxc = max(rgb)\n",
    "    if 0 < maxc and maxc < 1.0:\n",
    "        # scale colour\n",
    "        rgb = rgb / maxc\n",
    "    # now decrease saturation\n",
    "    total = rgb.sum()\n",
    "    slack = 0\n",
    "    for x in rgb:\n",
    "        slack += 1.0 - x\n",
    "\n",
    "    # want to increase weight from total to weight\n",
    "    # pick x s.t.  slack * x == weight - total\n",
    "    # x = (weight - total) / slack\n",
    "    x = (weight - total) / slack\n",
    "\n",
    "    rgb = [c + (x * (1.0 - c)) for c in rgb] \n",
    "\n",
    "    return rgb\n",
    "\n",
    "def get_colours(n, flag):\n",
    "    \"\"\" Return n pastel colours. \"\"\"\n",
    "    base = np.asarray([[1, 0, 0], [0, 1, 0], [0, 0, 1]])\n",
    "\n",
    "    if n <= 3:\n",
    "        return base[0:n]\n",
    "\n",
    "    # how many new colours to we need to insert between\n",
    "    # red and green and between green and blue?\n",
    "    needed = (((n - 3) + 1) / 2, (n - 3) / 2)\n",
    "\n",
    "    colours = []\n",
    "    for start in (0, 1):\n",
    "        for x in np.linspace(0, 1, needed[start] + 2):\n",
    "            colours.append((base[start] * (1.0 - x)) +\n",
    "                           (base[start + 1] * x))\n",
    "    \n",
    "    if (flag ==0):\n",
    "        return [c for c in colours[0:n]] \n",
    "    else:\n",
    "        return [pastel(c) for c in colours[0:n]]"
   ]
  },
  {
   "cell_type": "code",
   "execution_count": 32,
   "metadata": {
    "collapsed": false
   },
   "outputs": [],
   "source": [
    "t = np.arange(0.0, 1.05, 0.05)\n",
    "s = np.cos(4 * np.pi * t) * np.sin(np.pi*t/4) + 2\n",
    "\n",
    "#plt.rc('text', usetex=False)\n",
    "#plt.rc('font',**{'family':'sans-serif','sans-serif':['Helvetica'],'size':16})"
   ]
  },
  {
   "cell_type": "code",
   "execution_count": 33,
   "metadata": {
    "collapsed": true
   },
   "outputs": [],
   "source": [
    "plt.rc('text', usetex=False)"
   ]
  },
  {
   "cell_type": "code",
   "execution_count": 125,
   "metadata": {
    "collapsed": false
   },
   "outputs": [
    {
     "data": {
      "text/plain": [
       "[<matplotlib.lines.Line2D at 0x116345f8>,\n",
       " <matplotlib.lines.Line2D at 0x116407f0>]"
      ]
     },
     "execution_count": 125,
     "metadata": {},
     "output_type": "execute_result"
    },
    {
     "data": {
      "image/png": "[encoded data removed]",
      "text/plain": [
       "<matplotlib.figure.Figure at 0x1154c240>"
      ]
     },
     "metadata": {},
     "output_type": "display_data"
    }
   ],
   "source": [
    "t = np.arange(0.0, 1.05, 0.05)\n",
    "s=t\n",
    "s2 = t*t\n",
    "s3 = t*t*t\n",
    "\n",
    "f, ax = plt.subplots(figsize=(5,4))\n",
    "\n",
    "plt.xlabel(\"X axis: \")\n",
    "plt.ylabel(\"Y axis: \")\n",
    "plt.title(\"Test \\textbd{3 graphs}\", fontsize=16)\n",
    "\n",
    "plt.plot(t, s,'b^')\n",
    "plt.plot(t,s2,'r-',  t,s2,'ro')\n",
    "plt.plot(t,s3,'g-',  t,s3,'gs')"
   ]
  },
  {
   "cell_type": "code",
   "execution_count": 140,
   "metadata": {
    "collapsed": false
   },
   "outputs": [
    {
     "data": {
      "image/png": "[encoded data removed]",
      "text/plain": [
       "<matplotlib.figure.Figure at 0xeaf2048>"
      ]
     },
     "metadata": {},
     "output_type": "display_data"
    }
   ],
   "source": [
    "# HISTOGRAM\n",
    "num_datapoints = 100\n",
    "dataset1 = [random.gauss(1, 3)  for i in range(0, num_datapoints)]  # list\n",
    "dataset2 = [random.gauss(8, 2)  for i in range(0, num_datapoints)]\n",
    "dataset3 = [random.gauss(-5, 2) for i in range(0, num_datapoints)]  # mu,std\n",
    "\n",
    "fig = plt.figure(figsize=(9,5)) # fig,ax = plt.subplots(figsize=(10,9))\n",
    "ax = fig.add_subplot(1,1,1) # one row, one column, first plot\n",
    "\n",
    "ax.hist((dataset1, dataset2), bins=10, color=(\"red\", \"green\"), alpha=0.6)\n",
    "ax.hist(dataset3,             bins=10, color=\"blue\",           alpha=0.6)\n",
    "\n",
    "ax.set_title(\"Histogram\")\n",
    "ax.set_xlabel(\"Incident type\")\n",
    "ax.set_ylabel(\"Frequency\")\n",
    "\n",
    "fig.savefig(\"histogram.png\")"
   ]
  },
  {
   "cell_type": "code",
   "execution_count": 142,
   "metadata": {
    "collapsed": false
   },
   "outputs": [
    {
     "data": {
      "image/png": "[encoded data removed]",
      "text/plain": [
       "<matplotlib.figure.Figure at 0x1173c6d8>"
      ]
     },
     "metadata": {},
     "output_type": "display_data"
    }
   ],
   "source": [
    "n_points = 50\n",
    "xx     = np.random.rand(n_points)\n",
    "yy     = np.random.rand(n_points)\n",
    "\n",
    "c1 = np.random.rand(n_points) \n",
    "c2 = np.random.rand(n_points) \n",
    "c3 = np.random.rand(n_points) \n",
    "\n",
    "colors        = get_colours(n_points,0)  # 50 common colors, value in [0, 1]\n",
    "colors_pastel = get_colours(n_points,1)  # 50 pastel colors, rgb color like [r,g,b]\n",
    "\n",
    "area = np.pi * (15 * np.random.rand(n_points))**2  # 50 radiuses for each point\n",
    "\n",
    "plt.scatter(xx, yy, s=area, c=colors_pastel, alpha=0.75, label=colors)\n",
    "plt.show()"
   ]
  },
  {
   "cell_type": "code",
   "execution_count": null,
   "metadata": {
    "collapsed": true
   },
   "outputs": [],
   "source": []
  },
  {
   "cell_type": "code",
   "execution_count": 135,
   "metadata": {
    "collapsed": false
   },
   "outputs": [
    {
     "name": "stdout",
     "output_type": "stream",
     "text": [
      "Elapsed time: 8.358 sec\n"
     ]
    }
   ],
   "source": [
    "url_sf     = \"https://raw.githubusercontent.com/uwescience/datasci_course_materials/master/assignment6/sanfrancisco_incidents_summer_2014.csv\"\n",
    "url_seatle = \"https://raw.githubusercontent.com/uwescience/datasci_course_materials/master/assignment6/seattle_incidents_summer_2014.csv\"\n",
    "csv_sf = \"sanfrancisco_incidents_summer_2014.csv\"\n",
    "csv_seatle = \"seattle_incidents_summer_2014.csv\"\n",
    "\n",
    "# local file reading is approximately 40 times faster than from the internet URL\n",
    "with Profiler():\n",
    "    sf = pd.read_table(url_sf, sep=',', quotechar='\\\"', parse_dates=False, low_memory=False) #, index_col='PdId')  # or | read_scv \n",
    "    #seatle = pd.read_table(data_seatle, sep=',', quotechar='\\\"', parse_dates=False, low_memory=False)  # read_scv "
   ]
  },
  {
   "cell_type": "code",
   "execution_count": 39,
   "metadata": {
    "collapsed": true
   },
   "outputs": [],
   "source": [
    "n_sf     = len(sf['Category'])            # 28993   type: numpy.int64\n",
    "#n_seatle = len(seatle['Offense Type'])    # 32779   type: numpy.int64\n",
    "\n",
    "# Add column 'one' = 1 for different counting on groups later\n",
    "sf['one']     = pd.Series(np.ones(n_sf,      dtype=np.int64), index=sf.index)\n",
    "#seatle['one'] = pd.Series(np.ones(n_seatle , dtype=np.int64), index=seatle.index)"
   ]
  },
  {
   "cell_type": "code",
   "execution_count": 137,
   "metadata": {
    "collapsed": false
   },
   "outputs": [
    {
     "name": "stdout",
     "output_type": "stream",
     "text": [
      "Elapsed time: 7.813 sec\n",
      "2014 8 31 23 2014-08-31 00:00:00\n",
      "2014 7 17 2 2014-07-17 00:00:00\n",
      "2014 6 4 12 2014-06-04 00:00:00\n"
     ]
    }
   ],
   "source": [
    "#------------------ San Francisco ---------------------------------------------------\n",
    "# Add column 'datetime' (date only without hh:mm:ss) and columns 'Year','Month','Day'. \n",
    "# This columns will be used for analysis and visuaisation by diffeerent periods.\n",
    "n = n_sf\n",
    "\n",
    "with Profiler():\n",
    "    c_dt    = pd.Series(np.empty(n, dtype=np.int64), index=sf.index)\n",
    "    c_year  = pd.Series(np.empty(n, dtype=np.int64), index=sf.index)  # column: index,value\n",
    "    c_month = pd.Series(np.empty(n, dtype=np.int64), index=sf.index)  # type: pandas.core.series.Series\n",
    "    c_day   = pd.Series(np.empty(n, dtype=np.int64), index=sf.index)\n",
    "    c_hour  = pd.Series(np.empty(n, dtype=np.int64), index=sf.index)\n",
    "    #c_minute= pd.Series(np.zeros(n, dtype=np.int64), index=sf.index)  # do not need\n",
    "\n",
    "    i = 0\n",
    "    for dt_str in zip(sf['Date'],sf['Time']):\n",
    "    \n",
    "        dt_full_str = dt_str[0] + ' ' + dt_str[1]   # ('2014-08-31', '23:50:00')\n",
    "        dt          = parse(dt_full_str)            # from string to datetime\n",
    "        #print \"%2d %4d %2d %2d    %2d %2d %2d %s\" % \\\n",
    "        #i,dt.year,dt.month,dt.day,dt.hour,dt.minute, dt.second, type(dt.year))# all - int \n",
    "        c_year[i]  = dt.year\n",
    "        c_month[i] = dt.month\n",
    "        c_day[i]   = dt.day\n",
    "        c_hour[i]  = dt.hour\n",
    "        c_dt[i]    = parse(dt_str[0])  # date only in datetime, no hh:mm:ss\n",
    "        #c_minute[i]= dt.minute\n",
    "        i += 1\n",
    "\n",
    "    sf['Year']  = c_year\n",
    "    sf['Month'] = c_month\n",
    "    sf['Day']   = c_day\n",
    "    sf['Hour']  = c_hour\n",
    "    sf['datetime'] = c_dt\n",
    "\n",
    "for i in [0,15000,28000]:\n",
    "    print sf['Year'][i],sf['Month'][i],sf['Day'][i],sf['Hour'][i],sf['datetime'][i]"
   ]
  },
  {
   "cell_type": "code",
   "execution_count": 112,
   "metadata": {
    "collapsed": false
   },
   "outputs": [],
   "source": [
    "NN = 1000\n",
    "df = sf[0:NN+1]\n",
    "#df[['Category','Hour','datetime']][-10:-1]\n",
    "#df[-10:-1]"
   ]
  },
  {
   "cell_type": "code",
   "execution_count": 139,
   "metadata": {
    "collapsed": false
   },
   "outputs": [
    {
     "name": "stderr",
     "output_type": "stream",
     "text": [
      "D:\\Anaconda\\Lib\\site-packages\\IPython\\kernel\\__main__.py:24: SettingWithCopyWarning: \n",
      "A value is trying to be set on a copy of a slice from a DataFrame\n",
      "\n",
      "See the the caveats in the documentation: http://pandas.pydata.org/pandas-docs/stable/indexing.html#indexing-view-versus-copy\n",
      "D:\\Anaconda\\Lib\\site-packages\\IPython\\kernel\\__main__.py:25: SettingWithCopyWarning: \n",
      "A value is trying to be set on a copy of a slice from a DataFrame\n",
      "\n",
      "See the the caveats in the documentation: http://pandas.pydata.org/pandas-docs/stable/indexing.html#indexing-view-versus-copy\n"
     ]
    },
    {
     "name": "stdout",
     "output_type": "stream",
     "text": [
      "Elapsed time: 0.344 sec\n",
      "Elapsed time: 2747.336 sec\n"
     ]
    },
    {
     "name": "stderr",
     "output_type": "stream",
     "text": [
      "D:\\Anaconda\\Lib\\site-packages\\IPython\\kernel\\__main__.py:40: SettingWithCopyWarning: \n",
      "A value is trying to be set on a copy of a slice from a DataFrame\n",
      "\n",
      "See the the caveats in the documentation: http://pandas.pydata.org/pandas-docs/stable/indexing.html#indexing-view-versus-copy\n"
     ]
    }
   ],
   "source": [
    "\n",
    "NN = n_sf # 1000\n",
    "\n",
    "day_night = pd.Series([u'Day',u'Night'], dtype=np.dtype((str, 6)), index=[False,True])\n",
    "TF =        pd.Series([False,True],      dtype=np.bool,            index=[False,True])\n",
    "#day_night, TF\n",
    "\n",
    "# filter data by most criminal categories and night hours\n",
    "\n",
    "with Profiler() as p: \n",
    "    \n",
    "    mask_night        = np.empty(NN, dtype=bool)\n",
    "    \n",
    "    i = 0\n",
    "    for hour in sf['Hour']:\n",
    "        b = (hour <= 1) | (hour >= 18)\n",
    "        mask_night[i]        = b\n",
    "        i += 1\n",
    "        #print i,'\\t',mask_night[i],'\\t',field\n",
    "        #if i >= NN:\n",
    "        #    break\n",
    "\n",
    "    sf['hour_period'] = pd.Series(np.empty(NN, dtype=np.dtype((str, 6))),index=range(NN) )    \n",
    "    sf['hour_period'][mask_night]   = day_night[True] \n",
    "    sf['hour_period'][~mask_night]  = day_night[False] \n",
    "\n",
    "    mask_categ        = sf['Category'].isin(['LARCENY/THEFT','ASSAULT']) # 'OTHER OFFENSES','NON-CRIMINAL',\n",
    "\n",
    "# compare with non-vectorized  code:\n",
    "'''\n",
    "with Profiler() as p: \n",
    "    \n",
    "    mask_night        = np.empty(NN, dtype=bool)\n",
    "    i = 0\n",
    "    for field in sf['Hour']:\n",
    "        if  (field <= 1) & (field >= 18):  \n",
    "            mask_night[i]        = True    # night\n",
    "            sf['hour_period'][i] = u\"Night\"\n",
    "        else:\n",
    "            mask_night[i]        = False  # day\n",
    "            sf['hour_period'][i] = u\"Day\"\n",
    "        #print sf['Hour'][i],'\\t', mask_night[i], '\\t', mask_categ[i], '\\t', sf['Category'][i]       \n",
    "        i += 1\n",
    "        #if i > 50:\n",
    "        #    break\n",
    "'''        \n",
    "#  Elapsed time:    0.344 sec   - VECTORIZED CODE, difference: 2747/0.344 = 7985 times (!!!)\n",
    "#  Elapsed time: 2747.336 sec   - 45 min 47 sec (!!!)\n",
    "        "
   ]
  },
  {
   "cell_type": "code",
   "execution_count": 114,
   "metadata": {
    "collapsed": false
   },
   "outputs": [
    {
     "name": "stdout",
     "output_type": "stream",
     "text": [
      "[False False False False False False  True  True  True  True]\n",
      "5612\n",
      "\n",
      "     Hour        Category hour_period\n",
      "990     2         ASSAULT         Day\n",
      "991     2    NON-CRIMINAL         Day\n",
      "992     2    NON-CRIMINAL         Day\n",
      "993     2         ASSAULT         Day\n",
      "994     2   LARCENY/THEFT         Day\n",
      "995     2           FRAUD         Day\n",
      "996     1  OTHER OFFENSES       Night\n",
      "997     1         ROBBERY       Night\n",
      "998     1    NON-CRIMINAL       Night\n",
      "999     1  OTHER OFFENSES       Night\n",
      "\n",
      "     Hour        Category hour_period\n",
      "150    16  MISSING PERSON         Day\n",
      "151    16  MISSING PERSON         Day\n",
      "152    16  MISSING PERSON         Day\n",
      "153    16   LARCENY/THEFT         Day\n",
      "154    16   LARCENY/THEFT         Day\n",
      "155    16    NON-CRIMINAL         Day\n",
      "156    15    NON-CRIMINAL         Day\n",
      "157    15   LARCENY/THEFT         Day\n",
      "158    15   VEHICLE THEFT         Day\n",
      "159    15  OTHER OFFENSES         Day\n"
     ]
    }
   ],
   "source": [
    "print mask_night[990:1000]\n",
    "print len(sf[mask_night & mask_categ][['Hour','Category','hour_period']])\n",
    "print '\\n',sf[['Hour','Category','hour_period']][990:1000]\n",
    "print '\\n',sf[['Hour','Category','hour_period']][150:160]\n",
    "#print sf[mask_night & mask_categ][['Hour','Category','hour_period']]"
   ]
  },
  {
   "cell_type": "markdown",
   "metadata": {},
   "source": [
    "## Crime analysis "
   ]
  },
  {
   "cell_type": "code",
   "execution_count": 110,
   "metadata": {
    "collapsed": false
   },
   "outputs": [],
   "source": [
    "# select night incidents for the most Top 3 incident categories\n",
    "sf_crimes = sf[mask_night & mask_categ][['Hour','Category','hour_period',\n",
    "                                         'Month','Date','datetime','one']] #.sort('Month')\n",
    "#sf_crimes"
   ]
  },
  {
   "cell_type": "code",
   "execution_count": null,
   "metadata": {
    "collapsed": false
   },
   "outputs": [],
   "source": []
  },
  {
   "cell_type": "code",
   "execution_count": null,
   "metadata": {
    "collapsed": true
   },
   "outputs": [],
   "source": [
    "#print sf.groupby('hour_categ')['hour_categ'].count()\n",
    "#sf.groupby('Hour')['Category'].size().order()[-11:-1] #value_counts() # Series"
   ]
  },
  {
   "cell_type": "code",
   "execution_count": null,
   "metadata": {
    "collapsed": true
   },
   "outputs": [],
   "source": [
    "NN\n",
    "c1 = np.random.rand(NN) "
   ]
  },
  {
   "cell_type": "code",
   "execution_count": 127,
   "metadata": {
    "collapsed": false
   },
   "outputs": [
    {
     "name": "stdout",
     "output_type": "stream",
     "text": [
      "2015-12-04 23:36:27.571000\n"
     ]
    }
   ],
   "source": [
    "print datetime.now()"
   ]
  },
  {
   "cell_type": "code",
   "execution_count": 192,
   "metadata": {
    "collapsed": false
   },
   "outputs": [
    {
     "data": {
      "text/html": [
       "<div>\n",
       "<table border=\"1\" class=\"dataframe\">\n",
       "  <thead>\n",
       "    <tr style=\"text-align: right;\">\n",
       "      <th></th>\n",
       "      <th>IncidntNum</th>\n",
       "      <th>Category</th>\n",
       "      <th>Descript</th>\n",
       "      <th>DayOfWeek</th>\n",
       "      <th>Date</th>\n",
       "      <th>Time</th>\n",
       "      <th>PdDistrict</th>\n",
       "      <th>Resolution</th>\n",
       "      <th>Address</th>\n",
       "      <th>X</th>\n",
       "      <th>Y</th>\n",
       "      <th>Location</th>\n",
       "      <th>PdId</th>\n",
       "      <th>Year</th>\n",
       "      <th>Month</th>\n",
       "      <th>Day</th>\n",
       "      <th>Hour</th>\n",
       "      <th>datetime</th>\n",
       "      <th>hour_period</th>\n",
       "      <th>one</th>\n",
       "    </tr>\n",
       "  </thead>\n",
       "  <tbody>\n",
       "    <tr>\n",
       "      <th>0</th>\n",
       "      <td>140734311</td>\n",
       "      <td>ARSON</td>\n",
       "      <td>ARSON OF A VEHICLE</td>\n",
       "      <td>Sunday</td>\n",
       "      <td>08/31/2014</td>\n",
       "      <td>23:50</td>\n",
       "      <td>BAYVIEW</td>\n",
       "      <td>NONE</td>\n",
       "      <td>LOOMIS ST / INDUSTRIAL ST</td>\n",
       "      <td>-122.405647</td>\n",
       "      <td>37.738322</td>\n",
       "      <td>(37.7383221869053, -122.405646994567)</td>\n",
       "      <td>14073431126031</td>\n",
       "      <td>2014</td>\n",
       "      <td>8</td>\n",
       "      <td>31</td>\n",
       "      <td>23</td>\n",
       "      <td>2014-08-31 00:00:00</td>\n",
       "      <td>Day</td>\n",
       "      <td>1</td>\n",
       "    </tr>\n",
       "    <tr>\n",
       "      <th>1</th>\n",
       "      <td>140736317</td>\n",
       "      <td>NON-CRIMINAL</td>\n",
       "      <td>LOST PROPERTY</td>\n",
       "      <td>Sunday</td>\n",
       "      <td>08/31/2014</td>\n",
       "      <td>23:45</td>\n",
       "      <td>MISSION</td>\n",
       "      <td>NONE</td>\n",
       "      <td>400 Block of CASTRO ST</td>\n",
       "      <td>-122.435012</td>\n",
       "      <td>37.761768</td>\n",
       "      <td>(37.7617677182954, -122.435012093789)</td>\n",
       "      <td>14073631771000</td>\n",
       "      <td>2014</td>\n",
       "      <td>8</td>\n",
       "      <td>31</td>\n",
       "      <td>23</td>\n",
       "      <td>2014-08-31 00:00:00</td>\n",
       "      <td>Day</td>\n",
       "      <td>1</td>\n",
       "    </tr>\n",
       "    <tr>\n",
       "      <th>2</th>\n",
       "      <td>146177923</td>\n",
       "      <td>LARCENY/THEFT</td>\n",
       "      <td>GRAND THEFT FROM LOCKED AUTO</td>\n",
       "      <td>Sunday</td>\n",
       "      <td>08/31/2014</td>\n",
       "      <td>23:30</td>\n",
       "      <td>SOUTHERN</td>\n",
       "      <td>NONE</td>\n",
       "      <td>1000 Block of MISSION ST</td>\n",
       "      <td>-122.409795</td>\n",
       "      <td>37.780036</td>\n",
       "      <td>(37.7800356268394, -122.409795194505)</td>\n",
       "      <td>14617792306244</td>\n",
       "      <td>2014</td>\n",
       "      <td>8</td>\n",
       "      <td>31</td>\n",
       "      <td>23</td>\n",
       "      <td>2014-08-31 00:00:00</td>\n",
       "      <td>Day</td>\n",
       "      <td>1</td>\n",
       "    </tr>\n",
       "    <tr>\n",
       "      <th>3</th>\n",
       "      <td>146177531</td>\n",
       "      <td>LARCENY/THEFT</td>\n",
       "      <td>GRAND THEFT FROM LOCKED AUTO</td>\n",
       "      <td>Sunday</td>\n",
       "      <td>08/31/2014</td>\n",
       "      <td>23:30</td>\n",
       "      <td>RICHMOND</td>\n",
       "      <td>NONE</td>\n",
       "      <td>FULTON ST / 26TH AV</td>\n",
       "      <td>-122.485263</td>\n",
       "      <td>37.772518</td>\n",
       "      <td>(37.7725176473142, -122.485262988324)</td>\n",
       "      <td>14617753106244</td>\n",
       "      <td>2014</td>\n",
       "      <td>8</td>\n",
       "      <td>31</td>\n",
       "      <td>23</td>\n",
       "      <td>2014-08-31 00:00:00</td>\n",
       "      <td>Day</td>\n",
       "      <td>1</td>\n",
       "    </tr>\n",
       "  </tbody>\n",
       "</table>\n",
       "</div>"
      ],
      "text/plain": [
       "   IncidntNum       Category                      Descript DayOfWeek  \\\n",
       "0   140734311          ARSON            ARSON OF A VEHICLE    Sunday   \n",
       "1   140736317   NON-CRIMINAL                 LOST PROPERTY    Sunday   \n",
       "2   146177923  LARCENY/THEFT  GRAND THEFT FROM LOCKED AUTO    Sunday   \n",
       "3   146177531  LARCENY/THEFT  GRAND THEFT FROM LOCKED AUTO    Sunday   \n",
       "\n",
       "         Date   Time PdDistrict Resolution                    Address  \\\n",
       "0  08/31/2014  23:50    BAYVIEW       NONE  LOOMIS ST / INDUSTRIAL ST   \n",
       "1  08/31/2014  23:45    MISSION       NONE     400 Block of CASTRO ST   \n",
       "2  08/31/2014  23:30   SOUTHERN       NONE   1000 Block of MISSION ST   \n",
       "3  08/31/2014  23:30   RICHMOND       NONE        FULTON ST / 26TH AV   \n",
       "\n",
       "            X          Y                               Location  \\\n",
       "0 -122.405647  37.738322  (37.7383221869053, -122.405646994567)   \n",
       "1 -122.435012  37.761768  (37.7617677182954, -122.435012093789)   \n",
       "2 -122.409795  37.780036  (37.7800356268394, -122.409795194505)   \n",
       "3 -122.485263  37.772518  (37.7725176473142, -122.485262988324)   \n",
       "\n",
       "             PdId  Year  Month  Day  Hour             datetime hour_period  \\\n",
       "0  14073431126031  2014      8   31    23  2014-08-31 00:00:00         Day   \n",
       "1  14073631771000  2014      8   31    23  2014-08-31 00:00:00         Day   \n",
       "2  14617792306244  2014      8   31    23  2014-08-31 00:00:00         Day   \n",
       "3  14617753106244  2014      8   31    23  2014-08-31 00:00:00         Day   \n",
       "\n",
       "   one  \n",
       "0    1  \n",
       "1    1  \n",
       "2    1  \n",
       "3    1  "
      ]
     },
     "execution_count": 192,
     "metadata": {},
     "output_type": "execute_result"
    }
   ],
   "source": [
    "#pd.data_range()\n",
    "sf[0:4]"
   ]
  },
  {
   "cell_type": "code",
   "execution_count": 174,
   "metadata": {
    "collapsed": false
   },
   "outputs": [
    {
     "ename": "AttributeError",
     "evalue": "'Int64Index' object has no attribute 'resample'",
     "output_type": "error",
     "traceback": [
      "\u001b[1;31m---------------------------------------------------------------------------\u001b[0m",
      "\u001b[1;31mAttributeError\u001b[0m                            Traceback (most recent call last)",
      "\u001b[1;32m<ipython-input-174-7536b94f9824>\u001b[0m in \u001b[0;36m<module>\u001b[1;34m()\u001b[0m\n\u001b[0;32m      1\u001b[0m \u001b[0mts\u001b[0m \u001b[1;33m=\u001b[0m \u001b[0msf\u001b[0m\u001b[1;33m.\u001b[0m\u001b[0mdatetime\u001b[0m\u001b[1;33m.\u001b[0m\u001b[0mcopy\u001b[0m\u001b[1;33m(\u001b[0m\u001b[1;33m)\u001b[0m\u001b[1;33m\u001b[0m\u001b[0m\n\u001b[0;32m      2\u001b[0m \u001b[1;33m\u001b[0m\u001b[0m\n\u001b[1;32m----> 3\u001b[1;33m \u001b[0mts\u001b[0m\u001b[1;33m.\u001b[0m\u001b[0mindex\u001b[0m\u001b[1;33m.\u001b[0m\u001b[0mresample\u001b[0m\u001b[1;33m(\u001b[0m\u001b[1;34m'D'\u001b[0m\u001b[1;33m)\u001b[0m \u001b[1;31m#, how='mean')\u001b[0m\u001b[1;33m\u001b[0m\u001b[0m\n\u001b[0m\u001b[0;32m      4\u001b[0m \u001b[1;31m#resample('D', how='mean')\u001b[0m\u001b[1;33m\u001b[0m\u001b[1;33m\u001b[0m\u001b[0m\n",
      "\u001b[1;31mAttributeError\u001b[0m: 'Int64Index' object has no attribute 'resample'"
     ]
    }
   ],
   "source": [
    "ts = sf.datetime.copy()\n",
    "\n",
    "ts.index.resample('D') #, how='mean')\n",
    "#resample('D', how='mean')"
   ]
  },
  {
   "cell_type": "code",
   "execution_count": 218,
   "metadata": {
    "collapsed": false
   },
   "outputs": [
    {
     "data": {
      "text/plain": [
       "DatetimeIndex(['2014-08-31', '2014-07-01', '2014-06-01'], dtype='datetime64[ns]', freq=None, tz=None)"
      ]
     },
     "execution_count": 218,
     "metadata": {},
     "output_type": "execute_result"
    }
   ],
   "source": [
    "dates = [pd.Timestamp('2014-08-31'), pd.Timestamp('2014-07-01'), pd.Timestamp('2014-06-01')] #, Timestamp('2012-05-03')]\n",
    "ts = pd.Series(sf.one, dates)\n",
    "ts.index"
   ]
  },
  {
   "cell_type": "code",
   "execution_count": 208,
   "metadata": {
    "collapsed": false
   },
   "outputs": [
    {
     "data": {
      "text/plain": [
       "[Timestamp('2014-08-31 00:00:00'), Timestamp('2014-06-01 00:00:00')]"
      ]
     },
     "execution_count": 208,
     "metadata": {},
     "output_type": "execute_result"
    }
   ],
   "source": [
    "dates"
   ]
  },
  {
   "cell_type": "code",
   "execution_count": 209,
   "metadata": {
    "collapsed": false
   },
   "outputs": [
    {
     "data": {
      "text/plain": [
       "pandas.core.index.Int64Index"
      ]
     },
     "execution_count": 209,
     "metadata": {},
     "output_type": "execute_result"
    }
   ],
   "source": [
    "unit = pd.Series(np.ones(n_sf, dtype=float), index = sf.index)\n",
    "#ts = pd.Series(sf.one, dates)\n",
    "type(sf['one'].index)\n",
    "\n"
   ]
  },
  {
   "cell_type": "code",
   "execution_count": 214,
   "metadata": {
    "collapsed": false
   },
   "outputs": [
    {
     "data": {
      "text/plain": [
       "pandas.core.index.Int64Index"
      ]
     },
     "execution_count": 214,
     "metadata": {},
     "output_type": "execute_result"
    }
   ],
   "source": [
    "type(sf.Date.index)"
   ]
  },
  {
   "cell_type": "code",
   "execution_count": 222,
   "metadata": {
    "collapsed": false
   },
   "outputs": [
    {
     "data": {
      "text/plain": [
       "DatetimeIndex(['2014-06-01', '2014-06-08', '2014-06-15', '2014-06-22',\n",
       "               '2014-06-29', '2014-07-06', '2014-07-13', '2014-07-20',\n",
       "               '2014-07-27', '2014-08-03', '2014-08-10', '2014-08-17',\n",
       "               '2014-08-24', '2014-08-31'],\n",
       "              dtype='datetime64[ns]', freq='W-SUN', tz=None)"
      ]
     },
     "execution_count": 222,
     "metadata": {},
     "output_type": "execute_result"
    }
   ],
   "source": [
    "index = pd.date_range('2014-06-01', periods=14, freq='W')  # 14 weeks to Aug 31.\n",
    "index\n"
   ]
  },
  {
   "cell_type": "code",
   "execution_count": 227,
   "metadata": {
    "collapsed": false
   },
   "outputs": [
    {
     "data": {
      "text/plain": [
       "DatetimeIndex(['2014-06-01', '2014-06-02', '2014-06-03', '2014-06-04',\n",
       "               '2014-06-05', '2014-06-06', '2014-06-07', '2014-06-08',\n",
       "               '2014-06-09', '2014-06-10', '2014-06-11', '2014-06-12',\n",
       "               '2014-06-13', '2014-06-14', '2014-06-15', '2014-06-16',\n",
       "               '2014-06-17', '2014-06-18', '2014-06-19', '2014-06-20',\n",
       "               '2014-06-21', '2014-06-22', '2014-06-23', '2014-06-24',\n",
       "               '2014-06-25', '2014-06-26', '2014-06-27', '2014-06-28',\n",
       "               '2014-06-29', '2014-06-30', '2014-07-01', '2014-07-02',\n",
       "               '2014-07-03', '2014-07-04', '2014-07-05', '2014-07-06',\n",
       "               '2014-07-07', '2014-07-08', '2014-07-09', '2014-07-10',\n",
       "               '2014-07-11', '2014-07-12', '2014-07-13', '2014-07-14',\n",
       "               '2014-07-15', '2014-07-16', '2014-07-17', '2014-07-18',\n",
       "               '2014-07-19', '2014-07-20', '2014-07-21', '2014-07-22',\n",
       "               '2014-07-23', '2014-07-24', '2014-07-25', '2014-07-26',\n",
       "               '2014-07-27', '2014-07-28', '2014-07-29', '2014-07-30',\n",
       "               '2014-07-31', '2014-08-01', '2014-08-02', '2014-08-03',\n",
       "               '2014-08-04', '2014-08-05', '2014-08-06', '2014-08-07',\n",
       "               '2014-08-08', '2014-08-09', '2014-08-10', '2014-08-11',\n",
       "               '2014-08-12', '2014-08-13', '2014-08-14', '2014-08-15',\n",
       "               '2014-08-16', '2014-08-17', '2014-08-18', '2014-08-19',\n",
       "               '2014-08-20', '2014-08-21', '2014-08-22', '2014-08-23',\n",
       "               '2014-08-24', '2014-08-25', '2014-08-26', '2014-08-27',\n",
       "               '2014-08-28', '2014-08-29', '2014-08-30', '2014-08-31'],\n",
       "              dtype='datetime64[ns]', freq='D', tz=None)"
      ]
     },
     "execution_count": 227,
     "metadata": {},
     "output_type": "execute_result"
    }
   ],
   "source": [
    "rng = pd.date_range('2014-06-01', '2014-08-31') #, periods=92, freq='D')\n",
    "rng"
   ]
  },
  {
   "cell_type": "code",
   "execution_count": 242,
   "metadata": {
    "collapsed": false
   },
   "outputs": [
    {
     "ename": "AttributeError",
     "evalue": "'module' object has no attribute 'relativedelta'",
     "output_type": "error",
     "traceback": [
      "\u001b[1;31m---------------------------------------------------------------------------\u001b[0m",
      "\u001b[1;31mAttributeError\u001b[0m                            Traceback (most recent call last)",
      "\u001b[1;32m<ipython-input-242-2cc11f296234>\u001b[0m in \u001b[0;36m<module>\u001b[1;34m()\u001b[0m\n\u001b[0;32m      1\u001b[0m \u001b[0md\u001b[0m \u001b[1;33m=\u001b[0m \u001b[0mdatetime\u001b[0m\u001b[1;33m(\u001b[0m\u001b[1;36m2013\u001b[0m\u001b[1;33m,\u001b[0m \u001b[1;36m6\u001b[0m\u001b[1;33m,\u001b[0m \u001b[1;36m1\u001b[0m\u001b[1;33m,\u001b[0m \u001b[1;36m0\u001b[0m\u001b[1;33m,\u001b[0m \u001b[1;36m0\u001b[0m\u001b[1;33m)\u001b[0m\u001b[1;33m\u001b[0m\u001b[0m\n\u001b[1;32m----> 2\u001b[1;33m \u001b[0mnewd\u001b[0m \u001b[1;33m=\u001b[0m \u001b[0mpd\u001b[0m\u001b[1;33m.\u001b[0m\u001b[0mrelativedelta\u001b[0m\u001b[1;33m(\u001b[0m\u001b[0mmonths\u001b[0m\u001b[1;33m=\u001b[0m\u001b[1;36m12\u001b[0m\u001b[1;33m,\u001b[0m\u001b[0mdays\u001b[0m\u001b[1;33m=\u001b[0m\u001b[1;36m0\u001b[0m\u001b[1;33m)\u001b[0m \u001b[1;33m-\u001b[0m \u001b[0md\u001b[0m \u001b[1;31m# datautil.relativedelta(months=14)\u001b[0m\u001b[1;33m\u001b[0m\u001b[0m\n\u001b[0m\u001b[0;32m      3\u001b[0m \u001b[0mnewd\u001b[0m\u001b[1;33m\u001b[0m\u001b[0m\n",
      "\u001b[1;31mAttributeError\u001b[0m: 'module' object has no attribute 'relativedelta'"
     ]
    }
   ],
   "source": [
    "d = datetime(2013, 6, 1, 0, 0)\n",
    "#newd = pd.relativedelta(months=12,days=0) - d # datautil.relativedelta(months=14)\n",
    "newd"
   ]
  },
  {
   "cell_type": "code",
   "execution_count": null,
   "metadata": {
    "collapsed": true
   },
   "outputs": [],
   "source": []
  }
 ],
 "metadata": {
  "kernelspec": {
   "display_name": "Python 2",
   "language": "python",
   "name": "python2"
  },
  "language_info": {
   "codemirror_mode": {
    "name": "ipython",
    "version": 2
   },
   "file_extension": ".py",
   "mimetype": "text/x-python",
   "name": "python",
   "nbconvert_exporter": "python",
   "pygments_lexer": "ipython2",
   "version": "2.7.10"
  }
 },
 "nbformat": 4,
 "nbformat_minor": 0
}
